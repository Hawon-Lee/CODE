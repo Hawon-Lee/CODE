{
 "cells": [
  {
   "cell_type": "code",
   "execution_count": null,
   "id": "389a4d32",
   "metadata": {},
   "outputs": [],
   "source": [
    "# you needs chromedriver in working space "
   ]
  },
  {
   "cell_type": "code",
   "execution_count": 1,
   "id": "657f7c12",
   "metadata": {},
   "outputs": [],
   "source": [
    "from selenium import webdriver\n",
    "from selenium.webdriver.common.by import By\n",
    "from selenium.webdriver.common.keys import Keys\n",
    "from selenium.webdriver.chrome.options import Options\n",
    "import time\n",
    "import random\n",
    "import pandas as pd"
   ]
  },
  {
   "cell_type": "code",
   "execution_count": 2,
   "id": "800c343f",
   "metadata": {},
   "outputs": [],
   "source": [
    "chrome_options = Options()\n",
    "chrome_options.add_argument('--incognito')"
   ]
  },
  {
   "cell_type": "code",
   "execution_count": 64,
   "id": "4cf0d00e",
   "metadata": {
    "scrolled": true
   },
   "outputs": [],
   "source": [
    "driver = webdriver.Chrome(options=chrome_options)"
   ]
  },
  {
   "cell_type": "code",
   "execution_count": 65,
   "id": "659a1a90",
   "metadata": {},
   "outputs": [],
   "source": [
    "url = \"https://www.deepl.com/translator\""
   ]
  },
  {
   "cell_type": "code",
   "execution_count": 66,
   "id": "30f298c4",
   "metadata": {},
   "outputs": [],
   "source": [
    "driver.get(url)"
   ]
  },
  {
   "cell_type": "code",
   "execution_count": 67,
   "id": "61ccb533",
   "metadata": {},
   "outputs": [
    {
     "ename": "NoSuchElementException",
     "evalue": "Message: no such element: Unable to locate element: {\"method\":\"xpath\",\"selector\":\"//*[@id=\"headlessui-dialog-panel-9\"]/button\"}\n  (Session info: chrome=116.0.5845.188)\n",
     "output_type": "error",
     "traceback": [
      "\u001b[1;31m---------------------------------------------------------------------------\u001b[0m",
      "\u001b[1;31mNoSuchElementException\u001b[0m                    Traceback (most recent call last)",
      "\u001b[1;32mc:\\Users\\vmfhr\\230914 deepl 역번역 코드.ipynb 셀 6\u001b[0m line \u001b[0;36m2\n\u001b[0;32m      <a href='vscode-notebook-cell:/c%3A/Users/vmfhr/230914%20deepl%20%EC%97%AD%EB%B2%88%EC%97%AD%20%EC%BD%94%EB%93%9C.ipynb#W5sZmlsZQ%3D%3D?line=0'>1</a>\u001b[0m \u001b[39m# 30일 무료체험창 종료\u001b[39;00m\n\u001b[1;32m----> <a href='vscode-notebook-cell:/c%3A/Users/vmfhr/230914%20deepl%20%EC%97%AD%EB%B2%88%EC%97%AD%20%EC%BD%94%EB%93%9C.ipynb#W5sZmlsZQ%3D%3D?line=1'>2</a>\u001b[0m driver\u001b[39m.\u001b[39mfind_element(By\u001b[39m.\u001b[39mXPATH, \u001b[39m'\u001b[39m\u001b[39m//*[@id=\u001b[39m\u001b[39m\"\u001b[39m\u001b[39mheadlessui-dialog-panel-9\u001b[39m\u001b[39m\"\u001b[39m\u001b[39m]/button\u001b[39m\u001b[39m'\u001b[39m)\u001b[39m.\u001b[39mclick()\n\u001b[0;32m      <a href='vscode-notebook-cell:/c%3A/Users/vmfhr/230914%20deepl%20%EC%97%AD%EB%B2%88%EC%97%AD%20%EC%BD%94%EB%93%9C.ipynb#W5sZmlsZQ%3D%3D?line=3'>4</a>\u001b[0m \u001b[39m# 한국어 선택\u001b[39;00m\n\u001b[0;32m      <a href='vscode-notebook-cell:/c%3A/Users/vmfhr/230914%20deepl%20%EC%97%AD%EB%B2%88%EC%97%AD%20%EC%BD%94%EB%93%9C.ipynb#W5sZmlsZQ%3D%3D?line=4'>5</a>\u001b[0m driver\u001b[39m.\u001b[39mfind_element(By\u001b[39m.\u001b[39mCLASS_NAME, \u001b[39m\"\u001b[39m\u001b[39mlmt__language_select__active__title\u001b[39m\u001b[39m\"\u001b[39m)\u001b[39m.\u001b[39mclick()\n",
      "File \u001b[1;32mc:\\Users\\vmfhr\\anaconda3\\Lib\\site-packages\\selenium\\webdriver\\remote\\webdriver.py:976\u001b[0m, in \u001b[0;36mWebDriver.find_element\u001b[1;34m(self, by, value)\u001b[0m\n\u001b[0;32m    974\u001b[0m         by \u001b[39m=\u001b[39m By\u001b[39m.\u001b[39mCSS_SELECTOR\n\u001b[0;32m    975\u001b[0m         value \u001b[39m=\u001b[39m \u001b[39m'\u001b[39m\u001b[39m[name=\u001b[39m\u001b[39m\"\u001b[39m\u001b[39m%s\u001b[39;00m\u001b[39m\"\u001b[39m\u001b[39m]\u001b[39m\u001b[39m'\u001b[39m \u001b[39m%\u001b[39m value\n\u001b[1;32m--> 976\u001b[0m \u001b[39mreturn\u001b[39;00m \u001b[39mself\u001b[39m\u001b[39m.\u001b[39mexecute(Command\u001b[39m.\u001b[39mFIND_ELEMENT, {\n\u001b[0;32m    977\u001b[0m     \u001b[39m'\u001b[39m\u001b[39musing\u001b[39m\u001b[39m'\u001b[39m: by,\n\u001b[0;32m    978\u001b[0m     \u001b[39m'\u001b[39m\u001b[39mvalue\u001b[39m\u001b[39m'\u001b[39m: value})[\u001b[39m'\u001b[39m\u001b[39mvalue\u001b[39m\u001b[39m'\u001b[39m]\n",
      "File \u001b[1;32mc:\\Users\\vmfhr\\anaconda3\\Lib\\site-packages\\selenium\\webdriver\\remote\\webdriver.py:321\u001b[0m, in \u001b[0;36mWebDriver.execute\u001b[1;34m(self, driver_command, params)\u001b[0m\n\u001b[0;32m    319\u001b[0m response \u001b[39m=\u001b[39m \u001b[39mself\u001b[39m\u001b[39m.\u001b[39mcommand_executor\u001b[39m.\u001b[39mexecute(driver_command, params)\n\u001b[0;32m    320\u001b[0m \u001b[39mif\u001b[39;00m response:\n\u001b[1;32m--> 321\u001b[0m     \u001b[39mself\u001b[39m\u001b[39m.\u001b[39merror_handler\u001b[39m.\u001b[39mcheck_response(response)\n\u001b[0;32m    322\u001b[0m     response[\u001b[39m'\u001b[39m\u001b[39mvalue\u001b[39m\u001b[39m'\u001b[39m] \u001b[39m=\u001b[39m \u001b[39mself\u001b[39m\u001b[39m.\u001b[39m_unwrap_value(\n\u001b[0;32m    323\u001b[0m         response\u001b[39m.\u001b[39mget(\u001b[39m'\u001b[39m\u001b[39mvalue\u001b[39m\u001b[39m'\u001b[39m, \u001b[39mNone\u001b[39;00m))\n\u001b[0;32m    324\u001b[0m     \u001b[39mreturn\u001b[39;00m response\n",
      "File \u001b[1;32mc:\\Users\\vmfhr\\anaconda3\\Lib\\site-packages\\selenium\\webdriver\\remote\\errorhandler.py:242\u001b[0m, in \u001b[0;36mErrorHandler.check_response\u001b[1;34m(self, response)\u001b[0m\n\u001b[0;32m    240\u001b[0m         alert_text \u001b[39m=\u001b[39m value[\u001b[39m'\u001b[39m\u001b[39malert\u001b[39m\u001b[39m'\u001b[39m]\u001b[39m.\u001b[39mget(\u001b[39m'\u001b[39m\u001b[39mtext\u001b[39m\u001b[39m'\u001b[39m)\n\u001b[0;32m    241\u001b[0m     \u001b[39mraise\u001b[39;00m exception_class(message, screen, stacktrace, alert_text)\n\u001b[1;32m--> 242\u001b[0m \u001b[39mraise\u001b[39;00m exception_class(message, screen, stacktrace)\n",
      "\u001b[1;31mNoSuchElementException\u001b[0m: Message: no such element: Unable to locate element: {\"method\":\"xpath\",\"selector\":\"//*[@id=\"headlessui-dialog-panel-9\"]/button\"}\n  (Session info: chrome=116.0.5845.188)\n"
     ]
    }
   ],
   "source": [
    "# 30일 무료체험창 종료\n",
    "driver.find_element(By.XPATH, '//*[@id=\"headlessui-dialog-panel-9\"]/button').click()\n",
    "\n",
    "# 한국어 선택\n",
    "driver.find_element(By.CLASS_NAME, \"lmt__language_select__active__title\").click()\n",
    "time.sleep(0.5)\n",
    "driver.find_element(By.CSS_SELECTOR,  '#panelTranslateText > div.lmt__sides_container > div.lmt__sides_wrapper > section.lmt__side_container.lmt__side_container--source > div.lmt__language_select__menu.lmt__language_select__menu_source.lmt__language_select__menu_three_columns.lmt__language_select--open.focus-visible-inside-container.lmt__language_select--open_2 > div.lmt__language_wrapper > div:nth-child(3) > button:nth-child(7)').click()"
   ]
  },
  {
   "cell_type": "code",
   "execution_count": 16,
   "id": "48318a57",
   "metadata": {},
   "outputs": [],
   "source": [
    "def Translate(input):\n",
    "    tsled = []\n",
    "    try:\n",
    "        # input창 초기화\n",
    "        driver.find_element(By.TAG_NAME, 'd-textarea').send_keys(Keys.CONTROL + 'A')\n",
    "        # input 입력\n",
    "        driver.find_element(By.TAG_NAME, 'd-textarea').send_keys(input)\n",
    "        time.sleep(4)\n",
    "        # 좌우 스위칭\n",
    "        driver.find_element(By.XPATH, '//*[@id=\"panelTranslateText\"]/div[1]/div[2]/section[2]/div[1]/button/div[1]').click()\n",
    "        time.sleep(3)\n",
    "        # 역번역 문장 저장\n",
    "        tsled = []\n",
    "        # 첫문장 추가\n",
    "        tsled.append(driver.find_element(By.XPATH, '//*[@id=\"panelTranslateText\"]/div[1]/div[2]/section[2]/div[3]/div[1]/d-textarea/div/p/span').text)\n",
    "        # 외의 추천문장 추가\n",
    "        for tag in driver.find_elements(By.CLASS_NAME, 'lmt__translations_as_text__text_btn'):\n",
    "            tsled.append(tag.text)\n",
    "    except:\n",
    "        try:\n",
    "            driver.find_element(By.XPATH, '//*[@id=\"panelTranslateText\"]/div[1]/div[2]/section[2]/div[4]/div[7]/div/div/div/div[2]/button[2]').click()\n",
    "        except:\n",
    "            driver.find_element(By.XPATH, '//*[@id=\"headlessui-dialog-panel-103\"]/div/div/button[2]').click()\n",
    "    return tsled"
   ]
  },
  {
   "cell_type": "code",
   "execution_count": 59,
   "id": "7035691b",
   "metadata": {},
   "outputs": [
    {
     "data": {
      "text/plain": [
       "['김 감독은 현재 부상자 명단에는 없지만 원인을 알 수 없는 복통으로 인해 결장하고 있으며, 샌디에이고의 밥 멜빈 감독은 \"복통\"이라고 설명했고, MLB.com은 \"의료진이 원인을 파악하기 위해 노력하고 있다\"고 보도했습니다.',\n",
       " '']"
      ]
     },
     "execution_count": 59,
     "metadata": {},
     "output_type": "execute_result"
    }
   ],
   "source": [
    "Translate('김하성은 부상자 명단에는 오르지 않았지만, 알 수 없는 복부 통증으로 경기에 나서지 못하고 있다는데, 밥 멜빈 샌디에이고 감독은 “복통”이라면서 김하성을 기용하지 못하고 있는 와중 MLB.com은 “의료진이 원인을 찾기 위해 노력하고 있다”고 전했다.')"
   ]
  },
  {
   "cell_type": "code",
   "execution_count": 10,
   "id": "f56bb7c5",
   "metadata": {},
   "outputs": [],
   "source": [
    "data = pd.read_csv(\"C:/Users/vmfhr/Downloads/final_fooddata.csv\", header=None, encoding='cp949')"
   ]
  },
  {
   "cell_type": "code",
   "execution_count": 11,
   "id": "687c78dc",
   "metadata": {},
   "outputs": [],
   "source": [
    "data = data.rename(columns={0:'메뉴명', 1:'설명'})"
   ]
  },
  {
   "cell_type": "code",
   "execution_count": 12,
   "id": "61671284",
   "metadata": {},
   "outputs": [
    {
     "data": {
      "text/html": [
       "<div>\n",
       "<style scoped>\n",
       "    .dataframe tbody tr th:only-of-type {\n",
       "        vertical-align: middle;\n",
       "    }\n",
       "\n",
       "    .dataframe tbody tr th {\n",
       "        vertical-align: top;\n",
       "    }\n",
       "\n",
       "    .dataframe thead th {\n",
       "        text-align: right;\n",
       "    }\n",
       "</style>\n",
       "<table border=\"1\" class=\"dataframe\">\n",
       "  <thead>\n",
       "    <tr style=\"text-align: right;\">\n",
       "      <th></th>\n",
       "      <th>메뉴명</th>\n",
       "      <th>설명</th>\n",
       "    </tr>\n",
       "  </thead>\n",
       "  <tbody>\n",
       "    <tr>\n",
       "      <th>0</th>\n",
       "      <td>갈비찜</td>\n",
       "      <td>소갈비를 이용한 한국 요리</td>\n",
       "    </tr>\n",
       "    <tr>\n",
       "      <th>1</th>\n",
       "      <td>갈비찜</td>\n",
       "      <td>명절이나 잔칫상에 올라가는 음식이다</td>\n",
       "    </tr>\n",
       "    <tr>\n",
       "      <th>2</th>\n",
       "      <td>갈비찜</td>\n",
       "      <td>이것 또한 밥도둑 반찬이며 입맛이 없을때 먹기 좋은 음식이다.</td>\n",
       "    </tr>\n",
       "    <tr>\n",
       "      <th>3</th>\n",
       "      <td>갈비찜</td>\n",
       "      <td>추석이나 설날에 먹는 한국적인 음식!</td>\n",
       "    </tr>\n",
       "    <tr>\n",
       "      <th>4</th>\n",
       "      <td>갈비찜</td>\n",
       "      <td>매운양념, 안 매운 양념 다 맛있어요,,</td>\n",
       "    </tr>\n",
       "    <tr>\n",
       "      <th>...</th>\n",
       "      <td>...</td>\n",
       "      <td>...</td>\n",
       "    </tr>\n",
       "    <tr>\n",
       "      <th>1332</th>\n",
       "      <td>훠궈</td>\n",
       "      <td>국물이 일품입니다.</td>\n",
       "    </tr>\n",
       "    <tr>\n",
       "      <th>1333</th>\n",
       "      <td>훠궈</td>\n",
       "      <td>여자들이 좋아하는 음식이다.</td>\n",
       "    </tr>\n",
       "    <tr>\n",
       "      <th>1334</th>\n",
       "      <td>훠궈</td>\n",
       "      <td>중국에서 외식 메뉴로 가장 선호하는 음식이다</td>\n",
       "    </tr>\n",
       "    <tr>\n",
       "      <th>1335</th>\n",
       "      <td>훠궈</td>\n",
       "      <td>한국에서도 종종 보이며 마랑탕과 매우 유사한 음식이다</td>\n",
       "    </tr>\n",
       "    <tr>\n",
       "      <th>1336</th>\n",
       "      <td>훠궈</td>\n",
       "      <td>백탕은 고기나 야채로 만든 뽀얀 육수이며, 홍탕은 백탕 국물에 두반장과 초피가 들...</td>\n",
       "    </tr>\n",
       "  </tbody>\n",
       "</table>\n",
       "<p>1337 rows × 2 columns</p>\n",
       "</div>"
      ],
      "text/plain": [
       "      메뉴명                                                 설명\n",
       "0     갈비찜                                     소갈비를 이용한 한국 요리\n",
       "1     갈비찜                                명절이나 잔칫상에 올라가는 음식이다\n",
       "2     갈비찜                 이것 또한 밥도둑 반찬이며 입맛이 없을때 먹기 좋은 음식이다.\n",
       "3     갈비찜                               추석이나 설날에 먹는 한국적인 음식!\n",
       "4     갈비찜                             매운양념, 안 매운 양념 다 맛있어요,,\n",
       "...   ...                                                ...\n",
       "1332   훠궈                                         국물이 일품입니다.\n",
       "1333   훠궈                                    여자들이 좋아하는 음식이다.\n",
       "1334   훠궈                           중국에서 외식 메뉴로 가장 선호하는 음식이다\n",
       "1335   훠궈                      한국에서도 종종 보이며 마랑탕과 매우 유사한 음식이다\n",
       "1336   훠궈   백탕은 고기나 야채로 만든 뽀얀 육수이며, 홍탕은 백탕 국물에 두반장과 초피가 들...\n",
       "\n",
       "[1337 rows x 2 columns]"
      ]
     },
     "execution_count": 12,
     "metadata": {},
     "output_type": "execute_result"
    }
   ],
   "source": [
    "data"
   ]
  },
  {
   "cell_type": "code",
   "execution_count": 25,
   "id": "603e4cd7",
   "metadata": {},
   "outputs": [],
   "source": [
    "tsl_data = pd.DataFrame(data = None, columns=['메뉴명', '설명'])"
   ]
  },
  {
   "cell_type": "code",
   "execution_count": 30,
   "id": "8e6a818d",
   "metadata": {},
   "outputs": [
    {
     "data": {
      "text/html": [
       "<div>\n",
       "<style scoped>\n",
       "    .dataframe tbody tr th:only-of-type {\n",
       "        vertical-align: middle;\n",
       "    }\n",
       "\n",
       "    .dataframe tbody tr th {\n",
       "        vertical-align: top;\n",
       "    }\n",
       "\n",
       "    .dataframe thead th {\n",
       "        text-align: right;\n",
       "    }\n",
       "</style>\n",
       "<table border=\"1\" class=\"dataframe\">\n",
       "  <thead>\n",
       "    <tr style=\"text-align: right;\">\n",
       "      <th></th>\n",
       "      <th>메뉴명</th>\n",
       "      <th>설명</th>\n",
       "    </tr>\n",
       "  </thead>\n",
       "  <tbody>\n",
       "    <tr>\n",
       "      <th>0</th>\n",
       "      <td>갈비찜</td>\n",
       "      <td>소갈비를 곁들인 한식 요리</td>\n",
       "    </tr>\n",
       "    <tr>\n",
       "      <th>1</th>\n",
       "      <td>갈비찜</td>\n",
       "      <td></td>\n",
       "    </tr>\n",
       "    <tr>\n",
       "      <th>2</th>\n",
       "      <td>갈비찜</td>\n",
       "      <td>소 갈비를 곁들인 한식 요리</td>\n",
       "    </tr>\n",
       "    <tr>\n",
       "      <th>3</th>\n",
       "      <td>갈비찜</td>\n",
       "      <td>소 갈비살을 곁들인 한식 요리</td>\n",
       "    </tr>\n",
       "    <tr>\n",
       "      <th>4</th>\n",
       "      <td>갈비찜</td>\n",
       "      <td>소갈비를 곁들인 한국 요리</td>\n",
       "    </tr>\n",
       "    <tr>\n",
       "      <th>...</th>\n",
       "      <td>...</td>\n",
       "      <td>...</td>\n",
       "    </tr>\n",
       "    <tr>\n",
       "      <th>128</th>\n",
       "      <td>감자탕</td>\n",
       "      <td>볶음밥은 정말 맛있습니다!</td>\n",
       "    </tr>\n",
       "    <tr>\n",
       "      <th>129</th>\n",
       "      <td>감자탕</td>\n",
       "      <td>볶음밥은 정말 맛있을 거예요!</td>\n",
       "    </tr>\n",
       "    <tr>\n",
       "      <th>130</th>\n",
       "      <td>감자탕</td>\n",
       "      <td>볶음밥은 정말 맛있죠!</td>\n",
       "    </tr>\n",
       "    <tr>\n",
       "      <th>131</th>\n",
       "      <td>감자탕</td>\n",
       "      <td>너무 맛있어서 껍질만 벗겨서 고기와 함께 먹어도 되요...!</td>\n",
       "    </tr>\n",
       "    <tr>\n",
       "      <th>132</th>\n",
       "      <td>감자탕</td>\n",
       "      <td></td>\n",
       "    </tr>\n",
       "  </tbody>\n",
       "</table>\n",
       "<p>133 rows × 2 columns</p>\n",
       "</div>"
      ],
      "text/plain": [
       "     메뉴명                                 설명\n",
       "0    갈비찜                     소갈비를 곁들인 한식 요리\n",
       "1    갈비찜                                   \n",
       "2    갈비찜                    소 갈비를 곁들인 한식 요리\n",
       "3    갈비찜                   소 갈비살을 곁들인 한식 요리\n",
       "4    갈비찜                     소갈비를 곁들인 한국 요리\n",
       "..   ...                                ...\n",
       "128  감자탕                     볶음밥은 정말 맛있습니다!\n",
       "129  감자탕                   볶음밥은 정말 맛있을 거예요!\n",
       "130  감자탕                       볶음밥은 정말 맛있죠!\n",
       "131  감자탕  너무 맛있어서 껍질만 벗겨서 고기와 함께 먹어도 되요...!\n",
       "132  감자탕                                   \n",
       "\n",
       "[133 rows x 2 columns]"
      ]
     },
     "execution_count": 30,
     "metadata": {},
     "output_type": "execute_result"
    }
   ],
   "source": [
    "tsl_data"
   ]
  },
  {
   "cell_type": "code",
   "execution_count": 27,
   "id": "4b9bec88",
   "metadata": {},
   "outputs": [
    {
     "name": "stdout",
     "output_type": "stream",
     "text": [
      "0\n",
      "1\n",
      "2\n",
      "3\n",
      "4\n",
      "5\n",
      "6\n",
      "7\n",
      "8\n",
      "9\n",
      "10\n",
      "11\n",
      "12\n",
      "13\n",
      "14\n",
      "15\n",
      "16\n",
      "17\n",
      "18\n",
      "19\n",
      "20\n"
     ]
    },
    {
     "ename": "NoSuchElementException",
     "evalue": "Message: no such element: Unable to locate element: {\"method\":\"xpath\",\"selector\":\"//*[@id=\"headlessui-dialog-panel-103\"]/div/div/button[2]\"}\n  (Session info: chrome=116.0.5845.188)\n",
     "output_type": "error",
     "traceback": [
      "\u001b[1;31m---------------------------------------------------------------------------\u001b[0m",
      "\u001b[1;31mKeyboardInterrupt\u001b[0m                         Traceback (most recent call last)",
      "\u001b[1;32mc:\\Users\\vmfhr\\230914 deepl 역번역 코드.ipynb 셀 14\u001b[0m line \u001b[0;36m8\n\u001b[0;32m      <a href='vscode-notebook-cell:/c%3A/Users/vmfhr/230914%20deepl%20%EC%97%AD%EB%B2%88%EC%97%AD%20%EC%BD%94%EB%93%9C.ipynb#X16sZmlsZQ%3D%3D?line=6'>7</a>\u001b[0m driver\u001b[39m.\u001b[39mfind_element(By\u001b[39m.\u001b[39mTAG_NAME, \u001b[39m'\u001b[39m\u001b[39md-textarea\u001b[39m\u001b[39m'\u001b[39m)\u001b[39m.\u001b[39msend_keys(\u001b[39minput\u001b[39m)\n\u001b[1;32m----> <a href='vscode-notebook-cell:/c%3A/Users/vmfhr/230914%20deepl%20%EC%97%AD%EB%B2%88%EC%97%AD%20%EC%BD%94%EB%93%9C.ipynb#X16sZmlsZQ%3D%3D?line=7'>8</a>\u001b[0m time\u001b[39m.\u001b[39msleep(\u001b[39m4\u001b[39m)\n\u001b[0;32m      <a href='vscode-notebook-cell:/c%3A/Users/vmfhr/230914%20deepl%20%EC%97%AD%EB%B2%88%EC%97%AD%20%EC%BD%94%EB%93%9C.ipynb#X16sZmlsZQ%3D%3D?line=8'>9</a>\u001b[0m \u001b[39m# 좌우 스위칭\u001b[39;00m\n",
      "\u001b[1;31mKeyboardInterrupt\u001b[0m: ",
      "\nDuring handling of the above exception, another exception occurred:\n",
      "\u001b[1;31mNoSuchElementException\u001b[0m                    Traceback (most recent call last)",
      "\u001b[1;32mc:\\Users\\vmfhr\\230914 deepl 역번역 코드.ipynb 셀 14\u001b[0m line \u001b[0;36m2\n\u001b[0;32m     <a href='vscode-notebook-cell:/c%3A/Users/vmfhr/230914%20deepl%20%EC%97%AD%EB%B2%88%EC%97%AD%20%EC%BD%94%EB%93%9C.ipynb#X16sZmlsZQ%3D%3D?line=19'>20</a>\u001b[0m \u001b[39mtry\u001b[39;00m:\n\u001b[1;32m---> <a href='vscode-notebook-cell:/c%3A/Users/vmfhr/230914%20deepl%20%EC%97%AD%EB%B2%88%EC%97%AD%20%EC%BD%94%EB%93%9C.ipynb#X16sZmlsZQ%3D%3D?line=20'>21</a>\u001b[0m     driver\u001b[39m.\u001b[39mfind_element(By\u001b[39m.\u001b[39mXPATH, \u001b[39m'\u001b[39m\u001b[39m//*[@id=\u001b[39m\u001b[39m\"\u001b[39m\u001b[39mpanelTranslateText\u001b[39m\u001b[39m\"\u001b[39m\u001b[39m]/div[1]/div[2]/section[2]/div[4]/div[7]/div/div/div/div[2]/button[2]\u001b[39m\u001b[39m'\u001b[39m)\u001b[39m.\u001b[39mclick()\n\u001b[0;32m     <a href='vscode-notebook-cell:/c%3A/Users/vmfhr/230914%20deepl%20%EC%97%AD%EB%B2%88%EC%97%AD%20%EC%BD%94%EB%93%9C.ipynb#X16sZmlsZQ%3D%3D?line=21'>22</a>\u001b[0m \u001b[39mexcept\u001b[39;00m:\n",
      "File \u001b[1;32mc:\\Users\\vmfhr\\anaconda3\\Lib\\site-packages\\selenium\\webdriver\\remote\\webdriver.py:976\u001b[0m, in \u001b[0;36mWebDriver.find_element\u001b[1;34m(self, by, value)\u001b[0m\n\u001b[0;32m    975\u001b[0m         value \u001b[39m=\u001b[39m \u001b[39m'\u001b[39m\u001b[39m[name=\u001b[39m\u001b[39m\"\u001b[39m\u001b[39m%s\u001b[39;00m\u001b[39m\"\u001b[39m\u001b[39m]\u001b[39m\u001b[39m'\u001b[39m \u001b[39m%\u001b[39m value\n\u001b[1;32m--> 976\u001b[0m \u001b[39mreturn\u001b[39;00m \u001b[39mself\u001b[39m\u001b[39m.\u001b[39mexecute(Command\u001b[39m.\u001b[39mFIND_ELEMENT, {\n\u001b[0;32m    977\u001b[0m     \u001b[39m'\u001b[39m\u001b[39musing\u001b[39m\u001b[39m'\u001b[39m: by,\n\u001b[0;32m    978\u001b[0m     \u001b[39m'\u001b[39m\u001b[39mvalue\u001b[39m\u001b[39m'\u001b[39m: value})[\u001b[39m'\u001b[39m\u001b[39mvalue\u001b[39m\u001b[39m'\u001b[39m]\n",
      "File \u001b[1;32mc:\\Users\\vmfhr\\anaconda3\\Lib\\site-packages\\selenium\\webdriver\\remote\\webdriver.py:321\u001b[0m, in \u001b[0;36mWebDriver.execute\u001b[1;34m(self, driver_command, params)\u001b[0m\n\u001b[0;32m    320\u001b[0m \u001b[39mif\u001b[39;00m response:\n\u001b[1;32m--> 321\u001b[0m     \u001b[39mself\u001b[39m\u001b[39m.\u001b[39merror_handler\u001b[39m.\u001b[39mcheck_response(response)\n\u001b[0;32m    322\u001b[0m     response[\u001b[39m'\u001b[39m\u001b[39mvalue\u001b[39m\u001b[39m'\u001b[39m] \u001b[39m=\u001b[39m \u001b[39mself\u001b[39m\u001b[39m.\u001b[39m_unwrap_value(\n\u001b[0;32m    323\u001b[0m         response\u001b[39m.\u001b[39mget(\u001b[39m'\u001b[39m\u001b[39mvalue\u001b[39m\u001b[39m'\u001b[39m, \u001b[39mNone\u001b[39;00m))\n",
      "File \u001b[1;32mc:\\Users\\vmfhr\\anaconda3\\Lib\\site-packages\\selenium\\webdriver\\remote\\errorhandler.py:242\u001b[0m, in \u001b[0;36mErrorHandler.check_response\u001b[1;34m(self, response)\u001b[0m\n\u001b[0;32m    241\u001b[0m     \u001b[39mraise\u001b[39;00m exception_class(message, screen, stacktrace, alert_text)\n\u001b[1;32m--> 242\u001b[0m \u001b[39mraise\u001b[39;00m exception_class(message, screen, stacktrace)\n",
      "\u001b[1;31mNoSuchElementException\u001b[0m: Message: no such element: Unable to locate element: {\"method\":\"xpath\",\"selector\":\"//*[@id=\"panelTranslateText\"]/div[1]/div[2]/section[2]/div[4]/div[7]/div/div/div/div[2]/button[2]\"}\n  (Session info: chrome=116.0.5845.188)\n",
      "\nDuring handling of the above exception, another exception occurred:\n",
      "\u001b[1;31mNoSuchElementException\u001b[0m                    Traceback (most recent call last)",
      "\u001b[1;32mc:\\Users\\vmfhr\\230914 deepl 역번역 코드.ipynb 셀 14\u001b[0m line \u001b[0;36m4\n\u001b[0;32m      <a href='vscode-notebook-cell:/c%3A/Users/vmfhr/230914%20deepl%20%EC%97%AD%EB%B2%88%EC%97%AD%20%EC%BD%94%EB%93%9C.ipynb#X16sZmlsZQ%3D%3D?line=1'>2</a>\u001b[0m idx \u001b[39m=\u001b[39m \u001b[39m0\u001b[39m\n\u001b[0;32m      <a href='vscode-notebook-cell:/c%3A/Users/vmfhr/230914%20deepl%20%EC%97%AD%EB%B2%88%EC%97%AD%20%EC%BD%94%EB%93%9C.ipynb#X16sZmlsZQ%3D%3D?line=2'>3</a>\u001b[0m \u001b[39mfor\u001b[39;00m i \u001b[39min\u001b[39;00m \u001b[39mrange\u001b[39m(\u001b[39mlen\u001b[39m(data)):\n\u001b[1;32m----> <a href='vscode-notebook-cell:/c%3A/Users/vmfhr/230914%20deepl%20%EC%97%AD%EB%B2%88%EC%97%AD%20%EC%BD%94%EB%93%9C.ipynb#X16sZmlsZQ%3D%3D?line=3'>4</a>\u001b[0m     text_return \u001b[39m=\u001b[39m Translate(data\u001b[39m.\u001b[39mloc[i][\u001b[39m'\u001b[39m\u001b[39m설명\u001b[39m\u001b[39m'\u001b[39m])\n\u001b[0;32m      <a href='vscode-notebook-cell:/c%3A/Users/vmfhr/230914%20deepl%20%EC%97%AD%EB%B2%88%EC%97%AD%20%EC%BD%94%EB%93%9C.ipynb#X16sZmlsZQ%3D%3D?line=4'>5</a>\u001b[0m     \u001b[39mfor\u001b[39;00m text \u001b[39min\u001b[39;00m text_return:\n\u001b[0;32m      <a href='vscode-notebook-cell:/c%3A/Users/vmfhr/230914%20deepl%20%EC%97%AD%EB%B2%88%EC%97%AD%20%EC%BD%94%EB%93%9C.ipynb#X16sZmlsZQ%3D%3D?line=5'>6</a>\u001b[0m         tsl_data\u001b[39m.\u001b[39mloc[idx] \u001b[39m=\u001b[39m [data\u001b[39m.\u001b[39mloc[i][\u001b[39m'\u001b[39m\u001b[39m메뉴명\u001b[39m\u001b[39m'\u001b[39m], text]\n",
      "\u001b[1;32mc:\\Users\\vmfhr\\230914 deepl 역번역 코드.ipynb 셀 14\u001b[0m line \u001b[0;36m2\n\u001b[0;32m     <a href='vscode-notebook-cell:/c%3A/Users/vmfhr/230914%20deepl%20%EC%97%AD%EB%B2%88%EC%97%AD%20%EC%BD%94%EB%93%9C.ipynb#X16sZmlsZQ%3D%3D?line=20'>21</a>\u001b[0m         driver\u001b[39m.\u001b[39mfind_element(By\u001b[39m.\u001b[39mXPATH, \u001b[39m'\u001b[39m\u001b[39m//*[@id=\u001b[39m\u001b[39m\"\u001b[39m\u001b[39mpanelTranslateText\u001b[39m\u001b[39m\"\u001b[39m\u001b[39m]/div[1]/div[2]/section[2]/div[4]/div[7]/div/div/div/div[2]/button[2]\u001b[39m\u001b[39m'\u001b[39m)\u001b[39m.\u001b[39mclick()\n\u001b[0;32m     <a href='vscode-notebook-cell:/c%3A/Users/vmfhr/230914%20deepl%20%EC%97%AD%EB%B2%88%EC%97%AD%20%EC%BD%94%EB%93%9C.ipynb#X16sZmlsZQ%3D%3D?line=21'>22</a>\u001b[0m     \u001b[39mexcept\u001b[39;00m:\n\u001b[1;32m---> <a href='vscode-notebook-cell:/c%3A/Users/vmfhr/230914%20deepl%20%EC%97%AD%EB%B2%88%EC%97%AD%20%EC%BD%94%EB%93%9C.ipynb#X16sZmlsZQ%3D%3D?line=22'>23</a>\u001b[0m         driver\u001b[39m.\u001b[39mfind_element(By\u001b[39m.\u001b[39mXPATH, \u001b[39m'\u001b[39m\u001b[39m//*[@id=\u001b[39m\u001b[39m\"\u001b[39m\u001b[39mheadlessui-dialog-panel-103\u001b[39m\u001b[39m\"\u001b[39m\u001b[39m]/div/div/button[2]\u001b[39m\u001b[39m'\u001b[39m)\u001b[39m.\u001b[39mclick()\n\u001b[0;32m     <a href='vscode-notebook-cell:/c%3A/Users/vmfhr/230914%20deepl%20%EC%97%AD%EB%B2%88%EC%97%AD%20%EC%BD%94%EB%93%9C.ipynb#X16sZmlsZQ%3D%3D?line=23'>24</a>\u001b[0m \u001b[39mreturn\u001b[39;00m tsled\n",
      "File \u001b[1;32mc:\\Users\\vmfhr\\anaconda3\\Lib\\site-packages\\selenium\\webdriver\\remote\\webdriver.py:976\u001b[0m, in \u001b[0;36mWebDriver.find_element\u001b[1;34m(self, by, value)\u001b[0m\n\u001b[0;32m    974\u001b[0m         by \u001b[39m=\u001b[39m By\u001b[39m.\u001b[39mCSS_SELECTOR\n\u001b[0;32m    975\u001b[0m         value \u001b[39m=\u001b[39m \u001b[39m'\u001b[39m\u001b[39m[name=\u001b[39m\u001b[39m\"\u001b[39m\u001b[39m%s\u001b[39;00m\u001b[39m\"\u001b[39m\u001b[39m]\u001b[39m\u001b[39m'\u001b[39m \u001b[39m%\u001b[39m value\n\u001b[1;32m--> 976\u001b[0m \u001b[39mreturn\u001b[39;00m \u001b[39mself\u001b[39m\u001b[39m.\u001b[39mexecute(Command\u001b[39m.\u001b[39mFIND_ELEMENT, {\n\u001b[0;32m    977\u001b[0m     \u001b[39m'\u001b[39m\u001b[39musing\u001b[39m\u001b[39m'\u001b[39m: by,\n\u001b[0;32m    978\u001b[0m     \u001b[39m'\u001b[39m\u001b[39mvalue\u001b[39m\u001b[39m'\u001b[39m: value})[\u001b[39m'\u001b[39m\u001b[39mvalue\u001b[39m\u001b[39m'\u001b[39m]\n",
      "File \u001b[1;32mc:\\Users\\vmfhr\\anaconda3\\Lib\\site-packages\\selenium\\webdriver\\remote\\webdriver.py:321\u001b[0m, in \u001b[0;36mWebDriver.execute\u001b[1;34m(self, driver_command, params)\u001b[0m\n\u001b[0;32m    319\u001b[0m response \u001b[39m=\u001b[39m \u001b[39mself\u001b[39m\u001b[39m.\u001b[39mcommand_executor\u001b[39m.\u001b[39mexecute(driver_command, params)\n\u001b[0;32m    320\u001b[0m \u001b[39mif\u001b[39;00m response:\n\u001b[1;32m--> 321\u001b[0m     \u001b[39mself\u001b[39m\u001b[39m.\u001b[39merror_handler\u001b[39m.\u001b[39mcheck_response(response)\n\u001b[0;32m    322\u001b[0m     response[\u001b[39m'\u001b[39m\u001b[39mvalue\u001b[39m\u001b[39m'\u001b[39m] \u001b[39m=\u001b[39m \u001b[39mself\u001b[39m\u001b[39m.\u001b[39m_unwrap_value(\n\u001b[0;32m    323\u001b[0m         response\u001b[39m.\u001b[39mget(\u001b[39m'\u001b[39m\u001b[39mvalue\u001b[39m\u001b[39m'\u001b[39m, \u001b[39mNone\u001b[39;00m))\n\u001b[0;32m    324\u001b[0m     \u001b[39mreturn\u001b[39;00m response\n",
      "File \u001b[1;32mc:\\Users\\vmfhr\\anaconda3\\Lib\\site-packages\\selenium\\webdriver\\remote\\errorhandler.py:242\u001b[0m, in \u001b[0;36mErrorHandler.check_response\u001b[1;34m(self, response)\u001b[0m\n\u001b[0;32m    240\u001b[0m         alert_text \u001b[39m=\u001b[39m value[\u001b[39m'\u001b[39m\u001b[39malert\u001b[39m\u001b[39m'\u001b[39m]\u001b[39m.\u001b[39mget(\u001b[39m'\u001b[39m\u001b[39mtext\u001b[39m\u001b[39m'\u001b[39m)\n\u001b[0;32m    241\u001b[0m     \u001b[39mraise\u001b[39;00m exception_class(message, screen, stacktrace, alert_text)\n\u001b[1;32m--> 242\u001b[0m \u001b[39mraise\u001b[39;00m exception_class(message, screen, stacktrace)\n",
      "\u001b[1;31mNoSuchElementException\u001b[0m: Message: no such element: Unable to locate element: {\"method\":\"xpath\",\"selector\":\"//*[@id=\"headlessui-dialog-panel-103\"]/div/div/button[2]\"}\n  (Session info: chrome=116.0.5845.188)\n"
     ]
    }
   ],
   "source": [
    "# 실행 코드\n",
    "idx = 0\n",
    "for i in range(len(data)):\n",
    "    text_return = Translate(data.loc[i]['설명'])\n",
    "    for text in text_return:\n",
    "        tsl_data.loc[idx] = [data.loc[i]['메뉴명'], text]\n",
    "        idx += 1\n",
    "    print(i)"
   ]
  },
  {
   "cell_type": "code",
   "execution_count": 68,
   "id": "7965034f",
   "metadata": {},
   "outputs": [
    {
     "name": "stdout",
     "output_type": "stream",
     "text": [
      "1334\n",
      "1335\n",
      "1336\n"
     ]
    }
   ],
   "source": [
    "# 중간부터\n",
    "\n",
    "# 실행 코드\n",
    "idx = len(tsl_data) + 1\n",
    "for i in range(1334, len(data)):\n",
    "    text_return = Translate(data.loc[i]['설명'])\n",
    "    for text in text_return:\n",
    "        tsl_data.loc[idx] = [data.loc[i]['메뉴명'], text]\n",
    "        idx += 1\n",
    "    print(i)"
   ]
  },
  {
   "cell_type": "code",
   "execution_count": 116,
   "id": "44dd3484",
   "metadata": {},
   "outputs": [
    {
     "data": {
      "text/html": [
       "<div>\n",
       "<style scoped>\n",
       "    .dataframe tbody tr th:only-of-type {\n",
       "        vertical-align: middle;\n",
       "    }\n",
       "\n",
       "    .dataframe tbody tr th {\n",
       "        vertical-align: top;\n",
       "    }\n",
       "\n",
       "    .dataframe thead th {\n",
       "        text-align: right;\n",
       "    }\n",
       "</style>\n",
       "<table border=\"1\" class=\"dataframe\">\n",
       "  <thead>\n",
       "    <tr style=\"text-align: right;\">\n",
       "      <th></th>\n",
       "      <th>메뉴명</th>\n",
       "      <th>설명</th>\n",
       "    </tr>\n",
       "  </thead>\n",
       "  <tbody>\n",
       "    <tr>\n",
       "      <th>0</th>\n",
       "      <td>갈비찜</td>\n",
       "      <td>소갈비를 곁들인 한식 요리</td>\n",
       "    </tr>\n",
       "    <tr>\n",
       "      <th>1</th>\n",
       "      <td>갈비찜</td>\n",
       "      <td></td>\n",
       "    </tr>\n",
       "    <tr>\n",
       "      <th>2</th>\n",
       "      <td>갈비찜</td>\n",
       "      <td>소 갈비를 곁들인 한식 요리</td>\n",
       "    </tr>\n",
       "    <tr>\n",
       "      <th>3</th>\n",
       "      <td>갈비찜</td>\n",
       "      <td>소 갈비살을 곁들인 한식 요리</td>\n",
       "    </tr>\n",
       "    <tr>\n",
       "      <th>4</th>\n",
       "      <td>갈비찜</td>\n",
       "      <td>소갈비를 곁들인 한국 요리</td>\n",
       "    </tr>\n",
       "    <tr>\n",
       "      <th>...</th>\n",
       "      <td>...</td>\n",
       "      <td>...</td>\n",
       "    </tr>\n",
       "    <tr>\n",
       "      <th>4399</th>\n",
       "      <td>훠궈</td>\n",
       "      <td>중국에서 가장 인기 있는 외식 음식</td>\n",
       "    </tr>\n",
       "    <tr>\n",
       "      <th>4400</th>\n",
       "      <td>훠궈</td>\n",
       "      <td>한국에서도 발견되며 마랑탕과 매우 유사합니다.</td>\n",
       "    </tr>\n",
       "    <tr>\n",
       "      <th>4401</th>\n",
       "      <td>훠궈</td>\n",
       "      <td></td>\n",
       "    </tr>\n",
       "    <tr>\n",
       "      <th>4402</th>\n",
       "      <td>훠궈</td>\n",
       "      <td>백탕은 고기나 야채로 만든 맑은 국물이고, 홍탕은 두부와 초리조, 고추기름을 넣은...</td>\n",
       "    </tr>\n",
       "    <tr>\n",
       "      <th>4403</th>\n",
       "      <td>훠궈</td>\n",
       "      <td></td>\n",
       "    </tr>\n",
       "  </tbody>\n",
       "</table>\n",
       "<p>4403 rows × 2 columns</p>\n",
       "</div>"
      ],
      "text/plain": [
       "      메뉴명                                                 설명\n",
       "0     갈비찜                                     소갈비를 곁들인 한식 요리\n",
       "1     갈비찜                                                   \n",
       "2     갈비찜                                    소 갈비를 곁들인 한식 요리\n",
       "3     갈비찜                                   소 갈비살을 곁들인 한식 요리\n",
       "4     갈비찜                                     소갈비를 곁들인 한국 요리\n",
       "...   ...                                                ...\n",
       "4399   훠궈                                중국에서 가장 인기 있는 외식 음식\n",
       "4400   훠궈                          한국에서도 발견되며 마랑탕과 매우 유사합니다.\n",
       "4401   훠궈                                                   \n",
       "4402   훠궈   백탕은 고기나 야채로 만든 맑은 국물이고, 홍탕은 두부와 초리조, 고추기름을 넣은...\n",
       "4403   훠궈                                                   \n",
       "\n",
       "[4403 rows x 2 columns]"
      ]
     },
     "execution_count": 116,
     "metadata": {},
     "output_type": "execute_result"
    }
   ],
   "source": [
    "tsl_data"
   ]
  },
  {
   "cell_type": "code",
   "execution_count": 117,
   "id": "8d94a130",
   "metadata": {},
   "outputs": [],
   "source": [
    "new_tsl = tsl_data[tsl_data['설명'] != '']"
   ]
  },
  {
   "cell_type": "code",
   "execution_count": 124,
   "id": "960a14a1",
   "metadata": {},
   "outputs": [],
   "source": [
    "# 중복 제거\n",
    "new_tsl = new_tsl.drop_duplicates()"
   ]
  },
  {
   "cell_type": "code",
   "execution_count": 132,
   "id": "ae1b4894",
   "metadata": {},
   "outputs": [
    {
     "name": "stderr",
     "output_type": "stream",
     "text": [
      "C:\\Users\\vmfhr\\AppData\\Local\\Temp\\ipykernel_2276\\1483277998.py:1: FutureWarning: The default value of regex will change from True to False in a future version.\n",
      "  new_tsl['설명'].str.replace('(\\[[0-9]*\\])', '')\n"
     ]
    },
    {
     "data": {
      "text/plain": [
       "0                                          소갈비를 곁들인 한식 요리\n",
       "2                                         소 갈비를 곁들인 한식 요리\n",
       "3                                        소 갈비살을 곁들인 한식 요리\n",
       "4                                          소갈비를 곁들인 한국 요리\n",
       "5                                    휴일이나 잔치에서 가장 좋아하는 음식\n",
       "                              ...                        \n",
       "4397                              중국에서 가장 인기 있는 외식 메뉴입니다.\n",
       "4398                                  중국에서 가장 인기 있는 외식 요리\n",
       "4399                                  중국에서 가장 인기 있는 외식 음식\n",
       "4400                            한국에서도 발견되며 마랑탕과 매우 유사합니다.\n",
       "4402     백탕은 고기나 야채로 만든 맑은 국물이고, 홍탕은 두부와 초리조, 고추기름을 넣은...\n",
       "Name: 설명, Length: 3056, dtype: object"
      ]
     },
     "execution_count": 132,
     "metadata": {},
     "output_type": "execute_result"
    }
   ],
   "source": [
    "# [n] 제거\n",
    "new_tsl['설명'].str.replace('(\\[[0-9]*\\])', '')"
   ]
  },
  {
   "cell_type": "code",
   "execution_count": 154,
   "id": "2a675171",
   "metadata": {},
   "outputs": [],
   "source": [
    "# 영문 제거\n",
    "new_tsl = new_tsl[new_tsl['설명'].str.contains('^[A-Za-z]') != True]"
   ]
  },
  {
   "cell_type": "code",
   "execution_count": 156,
   "id": "798de050",
   "metadata": {},
   "outputs": [],
   "source": [
    "new_tsl = new_tsl.reset_index()[['메뉴명', '설명']]"
   ]
  },
  {
   "cell_type": "code",
   "execution_count": 157,
   "id": "e26f5a44",
   "metadata": {},
   "outputs": [
    {
     "data": {
      "text/html": [
       "<div>\n",
       "<style scoped>\n",
       "    .dataframe tbody tr th:only-of-type {\n",
       "        vertical-align: middle;\n",
       "    }\n",
       "\n",
       "    .dataframe tbody tr th {\n",
       "        vertical-align: top;\n",
       "    }\n",
       "\n",
       "    .dataframe thead th {\n",
       "        text-align: right;\n",
       "    }\n",
       "</style>\n",
       "<table border=\"1\" class=\"dataframe\">\n",
       "  <thead>\n",
       "    <tr style=\"text-align: right;\">\n",
       "      <th></th>\n",
       "      <th>메뉴명</th>\n",
       "      <th>설명</th>\n",
       "    </tr>\n",
       "  </thead>\n",
       "  <tbody>\n",
       "    <tr>\n",
       "      <th>0</th>\n",
       "      <td>갈비찜</td>\n",
       "      <td>소갈비를 곁들인 한식 요리</td>\n",
       "    </tr>\n",
       "    <tr>\n",
       "      <th>1</th>\n",
       "      <td>갈비찜</td>\n",
       "      <td>소 갈비를 곁들인 한식 요리</td>\n",
       "    </tr>\n",
       "    <tr>\n",
       "      <th>2</th>\n",
       "      <td>갈비찜</td>\n",
       "      <td>소 갈비살을 곁들인 한식 요리</td>\n",
       "    </tr>\n",
       "    <tr>\n",
       "      <th>3</th>\n",
       "      <td>갈비찜</td>\n",
       "      <td>소갈비를 곁들인 한국 요리</td>\n",
       "    </tr>\n",
       "    <tr>\n",
       "      <th>4</th>\n",
       "      <td>갈비찜</td>\n",
       "      <td>휴일이나 잔치에서 가장 좋아하는 음식</td>\n",
       "    </tr>\n",
       "    <tr>\n",
       "      <th>...</th>\n",
       "      <td>...</td>\n",
       "      <td>...</td>\n",
       "    </tr>\n",
       "    <tr>\n",
       "      <th>2979</th>\n",
       "      <td>훠궈</td>\n",
       "      <td>중국에서 가장 인기 있는 외식 메뉴입니다.</td>\n",
       "    </tr>\n",
       "    <tr>\n",
       "      <th>2980</th>\n",
       "      <td>훠궈</td>\n",
       "      <td>중국에서 가장 인기 있는 외식 요리</td>\n",
       "    </tr>\n",
       "    <tr>\n",
       "      <th>2981</th>\n",
       "      <td>훠궈</td>\n",
       "      <td>중국에서 가장 인기 있는 외식 음식</td>\n",
       "    </tr>\n",
       "    <tr>\n",
       "      <th>2982</th>\n",
       "      <td>훠궈</td>\n",
       "      <td>한국에서도 발견되며 마랑탕과 매우 유사합니다.</td>\n",
       "    </tr>\n",
       "    <tr>\n",
       "      <th>2983</th>\n",
       "      <td>훠궈</td>\n",
       "      <td>백탕은 고기나 야채로 만든 맑은 국물이고, 홍탕은 두부와 초리조, 고추기름을 넣은...</td>\n",
       "    </tr>\n",
       "  </tbody>\n",
       "</table>\n",
       "<p>2984 rows × 2 columns</p>\n",
       "</div>"
      ],
      "text/plain": [
       "      메뉴명                                                 설명\n",
       "0     갈비찜                                     소갈비를 곁들인 한식 요리\n",
       "1     갈비찜                                    소 갈비를 곁들인 한식 요리\n",
       "2     갈비찜                                   소 갈비살을 곁들인 한식 요리\n",
       "3     갈비찜                                     소갈비를 곁들인 한국 요리\n",
       "4     갈비찜                               휴일이나 잔치에서 가장 좋아하는 음식\n",
       "...   ...                                                ...\n",
       "2979   훠궈                            중국에서 가장 인기 있는 외식 메뉴입니다.\n",
       "2980   훠궈                                중국에서 가장 인기 있는 외식 요리\n",
       "2981   훠궈                                중국에서 가장 인기 있는 외식 음식\n",
       "2982   훠궈                          한국에서도 발견되며 마랑탕과 매우 유사합니다.\n",
       "2983   훠궈   백탕은 고기나 야채로 만든 맑은 국물이고, 홍탕은 두부와 초리조, 고추기름을 넣은...\n",
       "\n",
       "[2984 rows x 2 columns]"
      ]
     },
     "execution_count": 157,
     "metadata": {},
     "output_type": "execute_result"
    }
   ],
   "source": [
    "new_tsl"
   ]
  },
  {
   "cell_type": "code",
   "execution_count": 158,
   "id": "28e69bde",
   "metadata": {},
   "outputs": [],
   "source": [
    "add_data = new_tsl"
   ]
  },
  {
   "cell_type": "code",
   "execution_count": 160,
   "id": "4129dabf",
   "metadata": {},
   "outputs": [],
   "source": [
    "add_data.to_csv('더할문서.csv', encoding='utf-8-sig')"
   ]
  },
  {
   "cell_type": "code",
   "execution_count": 197,
   "id": "be1d1364",
   "metadata": {},
   "outputs": [],
   "source": [
    "joined_data = pd.concat([data, add_data]).reset_index()[['메뉴명', '설명']]"
   ]
  },
  {
   "cell_type": "code",
   "execution_count": 198,
   "id": "3be97440",
   "metadata": {},
   "outputs": [],
   "source": [
    "joined_data = joined_data.drop_duplicates()\n",
    "\n",
    "joined_data = joined_data.reset_index()[['메뉴명', '설명']]"
   ]
  },
  {
   "cell_type": "code",
   "execution_count": 199,
   "id": "715dac58",
   "metadata": {},
   "outputs": [
    {
     "data": {
      "text/html": [
       "<div>\n",
       "<style scoped>\n",
       "    .dataframe tbody tr th:only-of-type {\n",
       "        vertical-align: middle;\n",
       "    }\n",
       "\n",
       "    .dataframe tbody tr th {\n",
       "        vertical-align: top;\n",
       "    }\n",
       "\n",
       "    .dataframe thead th {\n",
       "        text-align: right;\n",
       "    }\n",
       "</style>\n",
       "<table border=\"1\" class=\"dataframe\">\n",
       "  <thead>\n",
       "    <tr style=\"text-align: right;\">\n",
       "      <th></th>\n",
       "      <th>메뉴명</th>\n",
       "      <th>설명</th>\n",
       "    </tr>\n",
       "  </thead>\n",
       "  <tbody>\n",
       "    <tr>\n",
       "      <th>0</th>\n",
       "      <td>갈비찜</td>\n",
       "      <td>소갈비를 이용한 한국 요리</td>\n",
       "    </tr>\n",
       "    <tr>\n",
       "      <th>1</th>\n",
       "      <td>갈비찜</td>\n",
       "      <td>명절이나 잔칫상에 올라가는 음식이다</td>\n",
       "    </tr>\n",
       "    <tr>\n",
       "      <th>2</th>\n",
       "      <td>갈비찜</td>\n",
       "      <td>이것 또한 밥도둑 반찬이며 입맛이 없을때 먹기 좋은 음식이다.</td>\n",
       "    </tr>\n",
       "    <tr>\n",
       "      <th>3</th>\n",
       "      <td>갈비찜</td>\n",
       "      <td>추석이나 설날에 먹는 한국적인 음식!</td>\n",
       "    </tr>\n",
       "    <tr>\n",
       "      <th>4</th>\n",
       "      <td>갈비찜</td>\n",
       "      <td>매운양념, 안 매운 양념 다 맛있어요,,</td>\n",
       "    </tr>\n",
       "    <tr>\n",
       "      <th>...</th>\n",
       "      <td>...</td>\n",
       "      <td>...</td>\n",
       "    </tr>\n",
       "    <tr>\n",
       "      <th>4288</th>\n",
       "      <td>훠궈</td>\n",
       "      <td>중국에서 가장 인기 있는 외식 메뉴입니다.</td>\n",
       "    </tr>\n",
       "    <tr>\n",
       "      <th>4289</th>\n",
       "      <td>훠궈</td>\n",
       "      <td>중국에서 가장 인기 있는 외식 요리</td>\n",
       "    </tr>\n",
       "    <tr>\n",
       "      <th>4290</th>\n",
       "      <td>훠궈</td>\n",
       "      <td>중국에서 가장 인기 있는 외식 음식</td>\n",
       "    </tr>\n",
       "    <tr>\n",
       "      <th>4291</th>\n",
       "      <td>훠궈</td>\n",
       "      <td>한국에서도 발견되며 마랑탕과 매우 유사합니다.</td>\n",
       "    </tr>\n",
       "    <tr>\n",
       "      <th>4292</th>\n",
       "      <td>훠궈</td>\n",
       "      <td>백탕은 고기나 야채로 만든 맑은 국물이고, 홍탕은 두부와 초리조, 고추기름을 넣은...</td>\n",
       "    </tr>\n",
       "  </tbody>\n",
       "</table>\n",
       "<p>4293 rows × 2 columns</p>\n",
       "</div>"
      ],
      "text/plain": [
       "      메뉴명                                                 설명\n",
       "0     갈비찜                                     소갈비를 이용한 한국 요리\n",
       "1     갈비찜                                명절이나 잔칫상에 올라가는 음식이다\n",
       "2     갈비찜                 이것 또한 밥도둑 반찬이며 입맛이 없을때 먹기 좋은 음식이다.\n",
       "3     갈비찜                               추석이나 설날에 먹는 한국적인 음식!\n",
       "4     갈비찜                             매운양념, 안 매운 양념 다 맛있어요,,\n",
       "...   ...                                                ...\n",
       "4288   훠궈                            중국에서 가장 인기 있는 외식 메뉴입니다.\n",
       "4289   훠궈                                중국에서 가장 인기 있는 외식 요리\n",
       "4290   훠궈                                중국에서 가장 인기 있는 외식 음식\n",
       "4291   훠궈                          한국에서도 발견되며 마랑탕과 매우 유사합니다.\n",
       "4292   훠궈   백탕은 고기나 야채로 만든 맑은 국물이고, 홍탕은 두부와 초리조, 고추기름을 넣은...\n",
       "\n",
       "[4293 rows x 2 columns]"
      ]
     },
     "execution_count": 199,
     "metadata": {},
     "output_type": "execute_result"
    }
   ],
   "source": [
    "joined_data"
   ]
  },
  {
   "cell_type": "code",
   "execution_count": 200,
   "id": "b0b11bbb",
   "metadata": {},
   "outputs": [
    {
     "name": "stderr",
     "output_type": "stream",
     "text": [
      "C:\\Users\\vmfhr\\AppData\\Local\\Temp\\ipykernel_2276\\2655185579.py:1: FutureWarning: The default value of regex will change from True to False in a future version.\n",
      "  joined_data['설명'] = joined_data['설명'].str.replace('^\\s', '')\n"
     ]
    }
   ],
   "source": [
    "joined_data['설명'] = joined_data['설명'].str.replace('^\\s', '')"
   ]
  },
  {
   "cell_type": "code",
   "execution_count": 204,
   "id": "28c08e92",
   "metadata": {},
   "outputs": [
    {
     "name": "stderr",
     "output_type": "stream",
     "text": [
      "C:\\Users\\vmfhr\\AppData\\Local\\Temp\\ipykernel_2276\\2317503221.py:1: FutureWarning: The default value of regex will change from True to False in a future version.\n",
      "  joined_data['설명'] = joined_data['설명'].str.replace('(\\[[0-9]*\\])', '')\n"
     ]
    }
   ],
   "source": [
    "joined_data['설명'] = joined_data['설명'].str.replace('(\\[[0-9]*\\])', '')"
   ]
  },
  {
   "cell_type": "code",
   "execution_count": 206,
   "id": "9a4f2259",
   "metadata": {},
   "outputs": [],
   "source": [
    "joined_data.to_csv('역번역데이터 합본.csv', encoding='utf-8-sig')"
   ]
  }
 ],
 "metadata": {
  "kernelspec": {
   "display_name": "Python 3 (ipykernel)",
   "language": "python",
   "name": "python3"
  },
  "language_info": {
   "codemirror_mode": {
    "name": "ipython",
    "version": 3
   },
   "file_extension": ".py",
   "mimetype": "text/x-python",
   "name": "python",
   "nbconvert_exporter": "python",
   "pygments_lexer": "ipython3",
   "version": "3.11.3"
  }
 },
 "nbformat": 4,
 "nbformat_minor": 5
}
